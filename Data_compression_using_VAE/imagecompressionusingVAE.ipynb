{
  "cells": [
    {
      "cell_type": "code",
      "execution_count": 1,
      "metadata": {
        "id": "AEUP0P-qmIlK"
      },
      "outputs": [
        {
          "name": "stderr",
          "output_type": "stream",
          "text": [
            "2023-10-06 11:45:45.781700: I tensorflow/core/util/port.cc:110] oneDNN custom operations are on. You may see slightly different numerical results due to floating-point round-off errors from different computation orders. To turn them off, set the environment variable `TF_ENABLE_ONEDNN_OPTS=0`.\n",
            "2023-10-06 11:45:45.844038: I tensorflow/tsl/cuda/cudart_stub.cc:28] Could not find cuda drivers on your machine, GPU will not be used.\n",
            "2023-10-06 11:45:46.126351: I tensorflow/tsl/cuda/cudart_stub.cc:28] Could not find cuda drivers on your machine, GPU will not be used.\n",
            "2023-10-06 11:45:46.128493: I tensorflow/core/platform/cpu_feature_guard.cc:182] This TensorFlow binary is optimized to use available CPU instructions in performance-critical operations.\n",
            "To enable the following instructions: AVX2 AVX512F AVX512_VNNI FMA, in other operations, rebuild TensorFlow with the appropriate compiler flags.\n",
            "2023-10-06 11:45:48.253487: W tensorflow/compiler/tf2tensorrt/utils/py_utils.cc:38] TF-TRT Warning: Could not find TensorRT\n"
          ]
        }
      ],
      "source": [
        "import numpy as np\n",
        "import tensorflow as tf\n",
        "from tensorflow import keras\n",
        "from tensorflow.keras import layers\n",
        "from tensorflow.keras.datasets import mnist"
      ]
    },
    {
      "cell_type": "code",
      "execution_count": 2,
      "metadata": {
        "id": "BjgKIhy3mVGW"
      },
      "outputs": [],
      "source": [
        "(x_train, _), (x_test, _) = mnist.load_data()"
      ]
    },
    {
      "cell_type": "code",
      "execution_count": 3,
      "metadata": {
        "id": "piPoEUzBnABf"
      },
      "outputs": [
        {
          "data": {
            "image/png": "[encoded data removed]",
            "text/plain": [
              "<Figure size 2000x400 with 10 Axes>"
            ]
          },
          "metadata": {},
          "output_type": "display_data"
        }
      ],
      "source": [
        "import matplotlib.pyplot as plt\n",
        "\n",
        "n = 10\n",
        "plt. figure(figsize = (20, 4))\n",
        "\n",
        "for i in range(n):\n",
        "    ax = plt.subplot(2, n, i + 1)\n",
        "    plt. imshow(x_train[i].reshape(28, 28))\n",
        "    plt. gray()\n",
        "    ax.get_xaxis().set_visible(False)\n",
        "    ax.get_yaxis().set_visible(False)\n"
      ]
    },
    {
      "cell_type": "code",
      "execution_count": 4,
      "metadata": {
        "id": "-A-sXk5imVgA"
      },
      "outputs": [],
      "source": [
        "x_train = x_train.astype('float32') / 255.0\n",
        "x_test = x_test.astype('float32') / 255.0\n",
        "x_train = x_train.reshape((len(x_train), np.prod(x_train.shape[1:])))\n",
        "x_test = x_test.reshape((len(x_test), np.prod(x_test.shape[1:])))"
      ]
    },
    {
      "cell_type": "code",
      "execution_count": 5,
      "metadata": {
        "id": "3-BEUfV5mXgd"
      },
      "outputs": [],
      "source": [
        "original_dim = x_train.shape[1]\n",
        "latent_dim = 32"
      ]
    },
    {
      "cell_type": "code",
      "execution_count": 6,
      "metadata": {
        "id": "IWaBQC6AmZbk"
      },
      "outputs": [],
      "source": [
        "# Encoder\n",
        "encoder_inputs = keras.Input(shape=(original_dim,))\n",
        "x = layers.Dense(128, activation=\"relu\")(encoder_inputs)\n",
        "z_mean = layers.Dense(latent_dim)(x)\n",
        "z_log_var = layers.Dense(latent_dim)(x)"
      ]
    },
    {
      "cell_type": "code",
      "execution_count": 7,
      "metadata": {
        "id": "Kk0Sdux_mblu"
      },
      "outputs": [],
      "source": [
        "def sampling(args):\n",
        "    z_mean, z_log_var = args\n",
        "    epsilon = tf.keras.backend.random_normal(shape=(tf.shape(z_mean)[0], latent_dim))\n",
        "    return z_mean + tf.exp(0.5 * z_log_var) * epsilon"
      ]
    },
    {
      "cell_type": "code",
      "execution_count": 8,
      "metadata": {
        "id": "peJgBSs8meCd"
      },
      "outputs": [],
      "source": [
        "z = layers.Lambda(sampling)([z_mean, z_log_var])\n"
      ]
    },
    {
      "cell_type": "code",
      "execution_count": 9,
      "metadata": {
        "id": "c3RXGllRmjLF"
      },
      "outputs": [],
      "source": [
        "# Decoder\n",
        "decoder_inputs = keras.Input(shape=(latent_dim,))\n",
        "x = layers.Dense(128, activation=\"relu\")(decoder_inputs)\n",
        "outputs = layers.Dense(original_dim, activation=\"sigmoid\")(x)"
      ]
    },
    {
      "cell_type": "code",
      "execution_count": 10,
      "metadata": {
        "id": "pY59wxc-mkkk"
      },
      "outputs": [],
      "source": [
        "encoder = keras.Model(encoder_inputs, [z_mean, z_log_var, z], name=\"encoder\")\n",
        "decoder = keras.Model(decoder_inputs, outputs, name=\"decoder\")"
      ]
    },
    {
      "cell_type": "code",
      "execution_count": 11,
      "metadata": {
        "id": "gPNPze0VmmzL"
      },
      "outputs": [],
      "source": [
        "# Define the VAE model\n",
        "outputs = decoder(encoder(encoder_inputs)[2])\n",
        "vae = keras.Model(encoder_inputs, outputs, name=\"vae\")"
      ]
    },
    {
      "cell_type": "code",
      "execution_count": 12,
      "metadata": {
        "id": "T4GCkffLmoVJ"
      },
      "outputs": [],
      "source": [
        "# Loss function\n",
        "reconstruction_loss = keras.losses.binary_crossentropy(encoder_inputs, outputs)\n",
        "reconstruction_loss *= original_dim\n",
        "kl_loss = 1 + z_log_var - tf.square(z_mean) - tf.exp(z_log_var)\n",
        "kl_loss = tf.reduce_sum(kl_loss, axis=-1)\n",
        "kl_loss *= -0.5\n",
        "vae_loss = tf.reduce_mean(reconstruction_loss + kl_loss)\n",
        "vae.add_loss(vae_loss)"
      ]
    },
    {
      "cell_type": "code",
      "execution_count": 13,
      "metadata": {
        "colab": {
          "base_uri": "https://localhost:8080/"
        },
        "id": "63zVM3jCmqCg",
        "outputId": "b8e8cd1b-6fc2-47c4-9f66-2fec16d35880"
      },
      "outputs": [
        {
          "name": "stdout",
          "output_type": "stream",
          "text": [
            "Epoch 1/20\n",
            "938/938 [==============================] - 10s 8ms/step - loss: 167.1086\n",
            "Epoch 2/20\n",
            "938/938 [==============================] - 9s 10ms/step - loss: 128.0593\n",
            "Epoch 3/20\n",
            "938/938 [==============================] - 9s 10ms/step - loss: 119.8757\n",
            "Epoch 4/20\n",
            "938/938 [==============================] - 7s 8ms/step - loss: 115.9616\n",
            "Epoch 5/20\n",
            "938/938 [==============================] - 7s 8ms/step - loss: 113.8637\n",
            "Epoch 6/20\n",
            "938/938 [==============================] - 7s 7ms/step - loss: 112.5946\n",
            "Epoch 7/20\n",
            "938/938 [==============================] - 7s 7ms/step - loss: 111.6905\n",
            "Epoch 8/20\n",
            "938/938 [==============================] - 7s 7ms/step - loss: 111.0077\n",
            "Epoch 9/20\n",
            "938/938 [==============================] - 7s 7ms/step - loss: 110.5033\n",
            "Epoch 10/20\n",
            "938/938 [==============================] - 7s 7ms/step - loss: 110.0842\n",
            "Epoch 11/20\n",
            "938/938 [==============================] - 6s 7ms/step - loss: 109.7235\n",
            "Epoch 12/20\n",
            "938/938 [==============================] - 7s 7ms/step - loss: 109.4130\n",
            "Epoch 13/20\n",
            "938/938 [==============================] - 7s 7ms/step - loss: 109.1851\n",
            "Epoch 14/20\n",
            "938/938 [==============================] - 7s 7ms/step - loss: 108.8591\n",
            "Epoch 15/20\n",
            "938/938 [==============================] - 6s 7ms/step - loss: 108.7228\n",
            "Epoch 16/20\n",
            "938/938 [==============================] - 7s 7ms/step - loss: 108.5174\n",
            "Epoch 17/20\n",
            "938/938 [==============================] - 7s 8ms/step - loss: 108.3094\n",
            "Epoch 18/20\n",
            "938/938 [==============================] - 7s 8ms/step - loss: 108.1556\n",
            "Epoch 19/20\n",
            "938/938 [==============================] - 7s 7ms/step - loss: 108.0280\n",
            "Epoch 20/20\n",
            "938/938 [==============================] - 7s 7ms/step - loss: 107.8522\n",
            "313/313 [==============================] - 1s 3ms/step\n",
            "313/313 [==============================] - 1s 2ms/step\n"
          ]
        }
      ],
      "source": [
        "vae.compile(optimizer='adam')\n",
        "\n",
        "vae.fit(x_train, epochs=20, batch_size=64)\n",
        "\n",
        "# Compression and decompression\n",
        "compressed_data, _, _ = encoder.predict(x_test)\n",
        "reconstructed_data = decoder.predict(compressed_data)"
      ]
    },
    {
      "cell_type": "code",
      "execution_count": 14,
      "metadata": {
        "colab": {
          "base_uri": "https://localhost:8080/",
          "height": 336
        },
        "id": "uRJa5lrAmuAc",
        "outputId": "9a733569-cfae-4858-a0cd-bab80a75baaf"
      },
      "outputs": [
        {
          "data": {
            "image/png": "[encoded data removed]",
            "text/plain": [
              "<Figure size 2000x400 with 20 Axes>"
            ]
          },
          "metadata": {},
          "output_type": "display_data"
        }
      ],
      "source": [
        "import matplotlib.pyplot as plt\n",
        "\n",
        "n = 10\n",
        "plt. figure(figsize = (20, 4))\n",
        "\n",
        "for i in range(n):\n",
        "    ax = plt.subplot(2, n, i + 1)\n",
        "    plt. imshow(x_test[i].reshape(28, 28))\n",
        "    plt. gray()\n",
        "    ax.get_xaxis().set_visible(False)\n",
        "    ax.get_yaxis().set_visible(False)\n",
        "\n",
        "    ax = plt. subplot (2, n, i + 1 + n)\n",
        "    plt.imshow(reconstructed_data[i].reshape(28, 28))\n",
        "    plt.gray()\n",
        "    ax.get_xaxis().set_visible(False)\n",
        "    ax.get_yaxis() .set_visible(False)\n",
        "plt. show ()"
      ]
    },
    {
      "cell_type": "code",
      "execution_count": null,
      "metadata": {
        "id": "u6wPDtb9qNbF"
      },
      "outputs": [],
      "source": []
    }
  ],
  "metadata": {
    "colab": {
      "provenance": []
    },
    "kernelspec": {
      "display_name": "Python 3",
      "name": "python3"
    },
    "language_info": {
      "codemirror_mode": {
        "name": "ipython",
        "version": 3
      },
      "file_extension": ".py",
      "mimetype": "text/x-python",
      "name": "python",
      "nbconvert_exporter": "python",
      "pygments_lexer": "ipython3",
      "version": "3.10.12"
    }
  },
  "nbformat": 4,
  "nbformat_minor": 0
}
