{
  "nbformat": 4,
  "nbformat_minor": 0,
  "metadata": {
    "colab": {
      "provenance": [],
      "authorship_tag": "ABX9TyPnP3XIo3bzJnUZ9jO4lXaU",
      "include_colab_link": true
    },
    "kernelspec": {
      "name": "python3",
      "display_name": "Python 3"
    },
    "language_info": {
      "name": "python"
    }
  },
  "cells": [
    {
      "cell_type": "markdown",
      "metadata": {
        "id": "view-in-github",
        "colab_type": "text"
      },
      "source": [
        "<a href=\"https://colab.research.google.com/github/HanishDhanwalkar/SideProjects/blob/main/HandwrittenDigits/HandwrittenDigitsRecognizer.ipynb\" target=\"_parent\"><img src=\"https://colab.research.google.com/assets/colab-badge.svg\" alt=\"Open In Colab\"/></a>"
      ]
    },
    {
      "cell_type": "code",
      "execution_count": 57,
      "metadata": {
        "id": "ri7LL520_1HK"
      },
      "outputs": [],
      "source": [
        "import numpy as np\n",
        "import tensorflow as tf\n",
        "from tensorflow import keras\n",
        "from tensorflow.keras import layers, Sequential\n",
        "from tensorflow.keras.datasets import mnist"
      ]
    },
    {
      "cell_type": "code",
      "source": [
        "(x_train, y_train), (x_test, y_test) = mnist.load_data()"
      ],
      "metadata": {
        "id": "b-e6XglB_6nf"
      },
      "execution_count": 58,
      "outputs": []
    },
    {
      "cell_type": "code",
      "source": [
        "import matplotlib.pyplot as plt\n",
        "\n",
        "n = 10\n",
        "plt. figure(figsize = (20, 4))\n",
        "\n",
        "for i in range(n):\n",
        "    ax = plt.subplot(2, n, i + 1)\n",
        "    plt. imshow(x_train[i].reshape(28, 28))\n",
        "    plt. gray()\n",
        "    ax.get_xaxis().set_visible(False)\n",
        "    ax.get_yaxis().set_visible(False)"
      ],
      "metadata": {
        "colab": {
          "base_uri": "https://localhost:8080/",
          "height": 168
        },
        "id": "kUOWVqdmAC6d",
        "outputId": "9a6e5075-df4c-4a3c-f750-3e1ba6ffe4ef"
      },
      "execution_count": 59,
      "outputs": [
        {
          "output_type": "display_data",
          "data": {
            "text/plain": [
              "<Figure size 2000x400 with 10 Axes>"
            ],
            "image/png": "[encoded data removed]"
          },
          "metadata": {}
        }
      ]
    },
    {
      "cell_type": "code",
      "source": [
        "print(y_train[1])"
      ],
      "metadata": {
        "id": "Rf-AKvsHAHQU",
        "colab": {
          "base_uri": "https://localhost:8080/"
        },
        "outputId": "3e0af0e4-bef7-4d43-a583-cab7ec34e8f4"
      },
      "execution_count": 60,
      "outputs": [
        {
          "output_type": "stream",
          "name": "stdout",
          "text": [
            "0\n"
          ]
        }
      ]
    },
    {
      "cell_type": "code",
      "source": [
        "x_train.shape"
      ],
      "metadata": {
        "colab": {
          "base_uri": "https://localhost:8080/"
        },
        "id": "Rlai2aLIEqrX",
        "outputId": "bc6c4bd2-a6e0-4a10-e8ca-b2f67c4c80c6"
      },
      "execution_count": 61,
      "outputs": [
        {
          "output_type": "execute_result",
          "data": {
            "text/plain": [
              "(60000, 28, 28)"
            ]
          },
          "metadata": {},
          "execution_count": 61
        }
      ]
    },
    {
      "cell_type": "code",
      "source": [
        "model = Sequential([\n",
        "    layers.Flatten(input_shape=(28, 28)),\n",
        "    layers.Dense(256, activation = 'relu'),\n",
        "    # layers.Dense(64, activation = 'relu'),\n",
        "    layers.Dense(10, activation = 'softmax')\n",
        "])\n",
        "model.compile(optimizer='adam', loss='sparse_categorical_crossentropy', metrics=['accuracy'])\n",
        "model.fit(x_train, y_train)"
      ],
      "metadata": {
        "colab": {
          "base_uri": "https://localhost:8080/"
        },
        "id": "bKDCWc8uJ4Di",
        "outputId": "20495322-1f74-42f4-9b4c-d0268bc9f9dd"
      },
      "execution_count": 99,
      "outputs": [
        {
          "output_type": "stream",
          "name": "stdout",
          "text": [
            "1875/1875 [==============================] - 9s 5ms/step - loss: 2.7939 - accuracy: 0.8892\n"
          ]
        },
        {
          "output_type": "execute_result",
          "data": {
            "text/plain": [
              "<keras.src.callbacks.History at 0x7e316d616e60>"
            ]
          },
          "metadata": {},
          "execution_count": 99
        }
      ]
    },
    {
      "cell_type": "code",
      "source": [
        "preds=model.predict(x_test)\n",
        "preds = np.argmax(preds, axis=1)\n"
      ],
      "metadata": {
        "colab": {
          "base_uri": "https://localhost:8080/"
        },
        "id": "anaThYBLLew5",
        "outputId": "51d98c3e-d12b-463c-c5cf-58c145ba380c"
      },
      "execution_count": 100,
      "outputs": [
        {
          "output_type": "stream",
          "name": "stdout",
          "text": [
            "313/313 [==============================] - 1s 2ms/step\n"
          ]
        }
      ]
    },
    {
      "cell_type": "code",
      "source": [
        "loss =0\n",
        "for i in range(len(y_test)):\n",
        "  l = preds[i] - y_test[i]\n",
        "  if l != 0:\n",
        "    loss += 1\n",
        "\n",
        "print(loss/len(y_test))"
      ],
      "metadata": {
        "colab": {
          "base_uri": "https://localhost:8080/"
        },
        "id": "nhC7nQVjRpW2",
        "outputId": "9a5a4476-2a54-4c97-ee2d-4f2b7766691d"
      },
      "execution_count": 101,
      "outputs": [
        {
          "output_type": "stream",
          "name": "stdout",
          "text": [
            "0.0827\n"
          ]
        }
      ]
    },
    {
      "cell_type": "code",
      "source": [
        "ntest = 10\n",
        "X = []\n",
        "for i in range(ntest):\n",
        "  X.append(x_test[i])\n",
        "\n",
        "X = np.array(X)\n",
        "X = X.reshape(ntest, 28,28,1)\n",
        "print(np.shape(X))\n",
        "print(np.shape(x_test))\n"
      ],
      "metadata": {
        "colab": {
          "base_uri": "https://localhost:8080/"
        },
        "id": "gSsI5J-FRn7f",
        "outputId": "133fd6be-346f-4556-ae6e-c118176d9620"
      },
      "execution_count": 102,
      "outputs": [
        {
          "output_type": "stream",
          "name": "stdout",
          "text": [
            "(10, 28, 28, 1)\n",
            "(10000, 28, 28)\n"
          ]
        }
      ]
    },
    {
      "cell_type": "code",
      "source": [
        "plt. figure(figsize = (20, 4))\n",
        "\n",
        "for i in range(ntest):\n",
        "    ax = plt.subplot(2, n, i + 1)\n",
        "    plt. imshow(x_test[i].reshape(28, 28))\n",
        "    plt. gray()\n",
        "    ax.get_xaxis().set_visible(False)\n",
        "    ax.get_yaxis().set_visible(False)\n",
        "\n",
        "preds1 = model.predict(X)\n",
        "preds1 = np.argmax(preds1, axis=1)\n",
        "print(preds1)"
      ],
      "metadata": {
        "colab": {
          "base_uri": "https://localhost:8080/",
          "height": 203
        },
        "id": "YlhRz0OUNyjh",
        "outputId": "59a799b7-f34b-4bf2-bb47-bf79a93383d9"
      },
      "execution_count": 103,
      "outputs": [
        {
          "output_type": "stream",
          "name": "stdout",
          "text": [
            "1/1 [==============================] - 0s 61ms/step\n",
            "[7 2 1 0 4 1 4 9 6 9]\n"
          ]
        },
        {
          "output_type": "display_data",
          "data": {
            "text/plain": [
              "<Figure size 2000x400 with 10 Axes>"
            ],
            "image/png": "[encoded data removed]"
          },
          "metadata": {}
        }
      ]
    },
    {
      "cell_type": "code",
      "source": [],
      "metadata": {
        "id": "WZpqbMhfOvj7"
      },
      "execution_count": 69,
      "outputs": []
    }
  ]
}